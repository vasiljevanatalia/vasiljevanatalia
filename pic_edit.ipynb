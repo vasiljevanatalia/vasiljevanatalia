{
 "cells": [
  {
   "cell_type": "code",
   "execution_count": null,
   "metadata": {},
   "outputs": [],
   "source": [
    "import cv2\n",
    "\n",
    "# Функция изменения размера изображения\n",
    "def resize_picture(picture_path, width, height):\n",
    "    picture = cv2.imread(picture_path)\n",
    "    resized_picture = cv2.resize(picture, (width, height))\n",
    "    return resized_picture\n",
    "\n",
    "# Функция конвертации в черно-белое\n",
    "def convert_to_grayscale(picture_path):\n",
    "    picture = cv2.imread(picture_path)\n",
    "    grayscale_picture = cv2.cvtColor(picture, cv2.COLOR_BGR2GRAY)\n",
    "    return grayscale_picture\n",
    "\n",
    "# Функция применения фильтра Гаусса\n",
    "def apply_gaussian_blur(picture_path, kernel_size=(5, 5)):\n",
    "    picture = cv2.imread(picture_path)\n",
    "    blurred_picture = cv2.GaussianBlur(picture, kernel_size, 0)\n",
    "    return blurred_picture\n",
    "# \n",
    "# Использование\n",
    "file_path = \"pic.jpeg\"  # Путь к изображению\n",
    "\n",
    "# Изменение размера\n",
    "resized = resize_picture(file_path, 700, 700)\n",
    "cv2.imshow(\"Resized pic\", resized)\n",
    "cv2.imwrite(\"resized_pic.jpeg\", resized)\n",
    "\n",
    "# Конвертация в черно-белое\n",
    "grayscale = convert_to_grayscale(file_path)\n",
    "cv2.imshow(\"Gray picture\", grayscale)\n",
    "cv2.imwrite(\"gray_pic.jpeg\", grayscale)\n",
    "\n",
    "# Применение фильтра Гаусса\n",
    "blurred = apply_gaussian_blur(file_path)\n",
    "cv2.imshow(\"Blur pic\", blurred)\n",
    "cv2.imwrite(\"blur_pic.jpeg\", blurred)\n",
    "\n",
    "cv2.waitKey(0)\n",
    "cv2.destroyAllWindows()\n"
   ]
  }
 ],
 "metadata": {
  "language_info": {
   "name": "python"
  }
 },
 "nbformat": 4,
 "nbformat_minor": 2
}
